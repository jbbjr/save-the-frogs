{
  "nbformat": 4,
  "nbformat_minor": 0,
  "metadata": {
    "colab": {
      "provenance": [],
      "authorship_tag": "ABX9TyOLirBwQ1KQnIPsYEQwUKib",
      "include_colab_link": true
    },
    "kernelspec": {
      "name": "python3",
      "display_name": "Python 3"
    },
    "language_info": {
      "name": "python"
    }
  },
  "cells": [
    {
      "cell_type": "markdown",
      "metadata": {
        "id": "view-in-github",
        "colab_type": "text"
      },
      "source": [
        "<a href=\"https://colab.research.google.com/github/jbblancojr/endangered_species/blob/main/BA810_CBSJ.ipynb\" target=\"_parent\"><img src=\"https://colab.research.google.com/assets/colab-badge.svg\" alt=\"Open In Colab\"/></a>"
      ]
    },
    {
      "cell_type": "code",
      "execution_count": 42,
      "metadata": {
        "id": "mBRp5YwhhJO4"
      },
      "outputs": [],
      "source": [
        "import pandas as pd\n",
        "import numpy as np\n",
        "import seaborn as sns\n",
        "import matplotlib.pyplot as plt"
      ]
    },
    {
      "cell_type": "code",
      "source": [
        "# Mounting google drive\n",
        "from google.colab import drive\n",
        "drive.mount('/content/gdrive', force_remount = True)"
      ],
      "metadata": {
        "colab": {
          "base_uri": "https://localhost:8080/"
        },
        "id": "x9913sQrjpQ4",
        "outputId": "49cf2496-fcb0-4a42-e32e-44a88e91b484"
      },
      "execution_count": 43,
      "outputs": [
        {
          "output_type": "stream",
          "name": "stdout",
          "text": [
            "Mounted at /content/gdrive\n"
          ]
        }
      ]
    },
    {
      "cell_type": "code",
      "source": [
        "species = pd.read_csv('/content/gdrive/MyDrive/BA810-GroupProj/learning_set.csv')"
      ],
      "metadata": {
        "colab": {
          "base_uri": "https://localhost:8080/"
        },
        "id": "4576EfgNjroS",
        "outputId": "711d6217-7007-4e2e-f0d0-6f1c2af12a2a"
      },
      "execution_count": 44,
      "outputs": [
        {
          "output_type": "stream",
          "name": "stderr",
          "text": [
            "<ipython-input-44-b5c266f8df8f>:1: DtypeWarning: Columns (4,5,6) have mixed types. Specify dtype option on import or set low_memory=False.\n",
            "  species = pd.read_csv('/content/gdrive/MyDrive/BA810-GroupProj/learning_set.csv')\n"
          ]
        }
      ]
    },
    {
      "cell_type": "code",
      "source": [
        "species.head(3)"
      ],
      "metadata": {
        "colab": {
          "base_uri": "https://localhost:8080/",
          "height": 366
        },
        "id": "j-cDewdNkdso",
        "outputId": "f2cd9cba-6072-478b-c263-9aae07bbe2a1"
      },
      "execution_count": 45,
      "outputs": [
        {
          "output_type": "execute_result",
          "data": {
            "text/plain": [
              "   Unnamed: 0       group            binomial   iucn_id_no  common_name  \\\n",
              "0           0  Amphibians  Abavorana luctuosa  125161167.0  Purple Frog   \n",
              "1           1  Amphibians  Abavorana luctuosa  125161167.0  Purple Frog   \n",
              "2           2  Amphibians  Abavorana luctuosa  125161167.0  Purple Frog   \n",
              "\n",
              "  name_language iucn_category iso_a3  total_area  small_range  ...  \\\n",
              "0           eng            LC    IDN   128005.56            0  ...   \n",
              "1           eng            LC    MYS   128005.56            0  ...   \n",
              "2           eng            LC    THA   128005.56            0  ...   \n",
              "\n",
              "  Surface Temperature Change  \\\n",
              "0                      1.085   \n",
              "1                      1.367   \n",
              "2                      1.014   \n",
              "\n",
              "  Climate related disasters frequency, Number of Disasters: Drought  \\\n",
              "0                                                NaN                  \n",
              "1                                                NaN                  \n",
              "2                                                NaN                  \n",
              "\n",
              "   Climate related disasters frequency, Number of Disasters: Extreme temperature  \\\n",
              "0                                                NaN                               \n",
              "1                                                NaN                               \n",
              "2                                                NaN                               \n",
              "\n",
              "   Climate related disasters frequency, Number of Disasters: Flood  \\\n",
              "0                                               13.0                 \n",
              "1                                                5.0                 \n",
              "2                                                9.0                 \n",
              "\n",
              "   Climate related disasters frequency, Number of Disasters: Landslide  \\\n",
              "0                                                NaN                     \n",
              "1                                                1.0                     \n",
              "2                                                NaN                     \n",
              "\n",
              "   Climate related disasters frequency, Number of Disasters: Storm  \\\n",
              "0                                                NaN                 \n",
              "1                                                NaN                 \n",
              "2                                                2.0                 \n",
              "\n",
              "   Climate related disasters frequency, Number of Disasters: TOTAL  \\\n",
              "0                                               13.0                 \n",
              "1                                                6.0                 \n",
              "2                                               11.0                 \n",
              "\n",
              "   Climate related disasters frequency, Number of Disasters: Wildfire  \\\n",
              "0                                                NaN                    \n",
              "1                                                NaN                    \n",
              "2                                                NaN                    \n",
              "\n",
              "   Population Density  Change in Precipitation  \n",
              "0                95.4                   -58.41  \n",
              "1               42.03                    11.69  \n",
              "2              122.01                  -199.93  \n",
              "\n",
              "[3 rows x 24 columns]"
            ],
            "text/html": [
              "\n",
              "  <div id=\"df-9e9ce6ed-3ec3-4880-b212-8fb4fb138c5e\" class=\"colab-df-container\">\n",
              "    <div>\n",
              "<style scoped>\n",
              "    .dataframe tbody tr th:only-of-type {\n",
              "        vertical-align: middle;\n",
              "    }\n",
              "\n",
              "    .dataframe tbody tr th {\n",
              "        vertical-align: top;\n",
              "    }\n",
              "\n",
              "    .dataframe thead th {\n",
              "        text-align: right;\n",
              "    }\n",
              "</style>\n",
              "<table border=\"1\" class=\"dataframe\">\n",
              "  <thead>\n",
              "    <tr style=\"text-align: right;\">\n",
              "      <th></th>\n",
              "      <th>Unnamed: 0</th>\n",
              "      <th>group</th>\n",
              "      <th>binomial</th>\n",
              "      <th>iucn_id_no</th>\n",
              "      <th>common_name</th>\n",
              "      <th>name_language</th>\n",
              "      <th>iucn_category</th>\n",
              "      <th>iso_a3</th>\n",
              "      <th>total_area</th>\n",
              "      <th>small_range</th>\n",
              "      <th>...</th>\n",
              "      <th>Surface Temperature Change</th>\n",
              "      <th>Climate related disasters frequency, Number of Disasters: Drought</th>\n",
              "      <th>Climate related disasters frequency, Number of Disasters: Extreme temperature</th>\n",
              "      <th>Climate related disasters frequency, Number of Disasters: Flood</th>\n",
              "      <th>Climate related disasters frequency, Number of Disasters: Landslide</th>\n",
              "      <th>Climate related disasters frequency, Number of Disasters: Storm</th>\n",
              "      <th>Climate related disasters frequency, Number of Disasters: TOTAL</th>\n",
              "      <th>Climate related disasters frequency, Number of Disasters: Wildfire</th>\n",
              "      <th>Population Density</th>\n",
              "      <th>Change in Precipitation</th>\n",
              "    </tr>\n",
              "  </thead>\n",
              "  <tbody>\n",
              "    <tr>\n",
              "      <th>0</th>\n",
              "      <td>0</td>\n",
              "      <td>Amphibians</td>\n",
              "      <td>Abavorana luctuosa</td>\n",
              "      <td>125161167.0</td>\n",
              "      <td>Purple Frog</td>\n",
              "      <td>eng</td>\n",
              "      <td>LC</td>\n",
              "      <td>IDN</td>\n",
              "      <td>128005.56</td>\n",
              "      <td>0</td>\n",
              "      <td>...</td>\n",
              "      <td>1.085</td>\n",
              "      <td>NaN</td>\n",
              "      <td>NaN</td>\n",
              "      <td>13.0</td>\n",
              "      <td>NaN</td>\n",
              "      <td>NaN</td>\n",
              "      <td>13.0</td>\n",
              "      <td>NaN</td>\n",
              "      <td>95.4</td>\n",
              "      <td>-58.41</td>\n",
              "    </tr>\n",
              "    <tr>\n",
              "      <th>1</th>\n",
              "      <td>1</td>\n",
              "      <td>Amphibians</td>\n",
              "      <td>Abavorana luctuosa</td>\n",
              "      <td>125161167.0</td>\n",
              "      <td>Purple Frog</td>\n",
              "      <td>eng</td>\n",
              "      <td>LC</td>\n",
              "      <td>MYS</td>\n",
              "      <td>128005.56</td>\n",
              "      <td>0</td>\n",
              "      <td>...</td>\n",
              "      <td>1.367</td>\n",
              "      <td>NaN</td>\n",
              "      <td>NaN</td>\n",
              "      <td>5.0</td>\n",
              "      <td>1.0</td>\n",
              "      <td>NaN</td>\n",
              "      <td>6.0</td>\n",
              "      <td>NaN</td>\n",
              "      <td>42.03</td>\n",
              "      <td>11.69</td>\n",
              "    </tr>\n",
              "    <tr>\n",
              "      <th>2</th>\n",
              "      <td>2</td>\n",
              "      <td>Amphibians</td>\n",
              "      <td>Abavorana luctuosa</td>\n",
              "      <td>125161167.0</td>\n",
              "      <td>Purple Frog</td>\n",
              "      <td>eng</td>\n",
              "      <td>LC</td>\n",
              "      <td>THA</td>\n",
              "      <td>128005.56</td>\n",
              "      <td>0</td>\n",
              "      <td>...</td>\n",
              "      <td>1.014</td>\n",
              "      <td>NaN</td>\n",
              "      <td>NaN</td>\n",
              "      <td>9.0</td>\n",
              "      <td>NaN</td>\n",
              "      <td>2.0</td>\n",
              "      <td>11.0</td>\n",
              "      <td>NaN</td>\n",
              "      <td>122.01</td>\n",
              "      <td>-199.93</td>\n",
              "    </tr>\n",
              "  </tbody>\n",
              "</table>\n",
              "<p>3 rows × 24 columns</p>\n",
              "</div>\n",
              "    <div class=\"colab-df-buttons\">\n",
              "\n",
              "  <div class=\"colab-df-container\">\n",
              "    <button class=\"colab-df-convert\" onclick=\"convertToInteractive('df-9e9ce6ed-3ec3-4880-b212-8fb4fb138c5e')\"\n",
              "            title=\"Convert this dataframe to an interactive table.\"\n",
              "            style=\"display:none;\">\n",
              "\n",
              "  <svg xmlns=\"http://www.w3.org/2000/svg\" height=\"24px\" viewBox=\"0 -960 960 960\">\n",
              "    <path d=\"M120-120v-720h720v720H120Zm60-500h600v-160H180v160Zm220 220h160v-160H400v160Zm0 220h160v-160H400v160ZM180-400h160v-160H180v160Zm440 0h160v-160H620v160ZM180-180h160v-160H180v160Zm440 0h160v-160H620v160Z\"/>\n",
              "  </svg>\n",
              "    </button>\n",
              "\n",
              "  <style>\n",
              "    .colab-df-container {\n",
              "      display:flex;\n",
              "      gap: 12px;\n",
              "    }\n",
              "\n",
              "    .colab-df-convert {\n",
              "      background-color: #E8F0FE;\n",
              "      border: none;\n",
              "      border-radius: 50%;\n",
              "      cursor: pointer;\n",
              "      display: none;\n",
              "      fill: #1967D2;\n",
              "      height: 32px;\n",
              "      padding: 0 0 0 0;\n",
              "      width: 32px;\n",
              "    }\n",
              "\n",
              "    .colab-df-convert:hover {\n",
              "      background-color: #E2EBFA;\n",
              "      box-shadow: 0px 1px 2px rgba(60, 64, 67, 0.3), 0px 1px 3px 1px rgba(60, 64, 67, 0.15);\n",
              "      fill: #174EA6;\n",
              "    }\n",
              "\n",
              "    .colab-df-buttons div {\n",
              "      margin-bottom: 4px;\n",
              "    }\n",
              "\n",
              "    [theme=dark] .colab-df-convert {\n",
              "      background-color: #3B4455;\n",
              "      fill: #D2E3FC;\n",
              "    }\n",
              "\n",
              "    [theme=dark] .colab-df-convert:hover {\n",
              "      background-color: #434B5C;\n",
              "      box-shadow: 0px 1px 3px 1px rgba(0, 0, 0, 0.15);\n",
              "      filter: drop-shadow(0px 1px 2px rgba(0, 0, 0, 0.3));\n",
              "      fill: #FFFFFF;\n",
              "    }\n",
              "  </style>\n",
              "\n",
              "    <script>\n",
              "      const buttonEl =\n",
              "        document.querySelector('#df-9e9ce6ed-3ec3-4880-b212-8fb4fb138c5e button.colab-df-convert');\n",
              "      buttonEl.style.display =\n",
              "        google.colab.kernel.accessAllowed ? 'block' : 'none';\n",
              "\n",
              "      async function convertToInteractive(key) {\n",
              "        const element = document.querySelector('#df-9e9ce6ed-3ec3-4880-b212-8fb4fb138c5e');\n",
              "        const dataTable =\n",
              "          await google.colab.kernel.invokeFunction('convertToInteractive',\n",
              "                                                    [key], {});\n",
              "        if (!dataTable) return;\n",
              "\n",
              "        const docLinkHtml = 'Like what you see? Visit the ' +\n",
              "          '<a target=\"_blank\" href=https://colab.research.google.com/notebooks/data_table.ipynb>data table notebook</a>'\n",
              "          + ' to learn more about interactive tables.';\n",
              "        element.innerHTML = '';\n",
              "        dataTable['output_type'] = 'display_data';\n",
              "        await google.colab.output.renderOutput(dataTable, element);\n",
              "        const docLink = document.createElement('div');\n",
              "        docLink.innerHTML = docLinkHtml;\n",
              "        element.appendChild(docLink);\n",
              "      }\n",
              "    </script>\n",
              "  </div>\n",
              "\n",
              "\n",
              "<div id=\"df-a19ac095-783b-41fe-9187-ae2143e7cd77\">\n",
              "  <button class=\"colab-df-quickchart\" onclick=\"quickchart('df-a19ac095-783b-41fe-9187-ae2143e7cd77')\"\n",
              "            title=\"Suggest charts.\"\n",
              "            style=\"display:none;\">\n",
              "\n",
              "<svg xmlns=\"http://www.w3.org/2000/svg\" height=\"24px\"viewBox=\"0 0 24 24\"\n",
              "     width=\"24px\">\n",
              "    <g>\n",
              "        <path d=\"M19 3H5c-1.1 0-2 .9-2 2v14c0 1.1.9 2 2 2h14c1.1 0 2-.9 2-2V5c0-1.1-.9-2-2-2zM9 17H7v-7h2v7zm4 0h-2V7h2v10zm4 0h-2v-4h2v4z\"/>\n",
              "    </g>\n",
              "</svg>\n",
              "  </button>\n",
              "\n",
              "<style>\n",
              "  .colab-df-quickchart {\n",
              "      --bg-color: #E8F0FE;\n",
              "      --fill-color: #1967D2;\n",
              "      --hover-bg-color: #E2EBFA;\n",
              "      --hover-fill-color: #174EA6;\n",
              "      --disabled-fill-color: #AAA;\n",
              "      --disabled-bg-color: #DDD;\n",
              "  }\n",
              "\n",
              "  [theme=dark] .colab-df-quickchart {\n",
              "      --bg-color: #3B4455;\n",
              "      --fill-color: #D2E3FC;\n",
              "      --hover-bg-color: #434B5C;\n",
              "      --hover-fill-color: #FFFFFF;\n",
              "      --disabled-bg-color: #3B4455;\n",
              "      --disabled-fill-color: #666;\n",
              "  }\n",
              "\n",
              "  .colab-df-quickchart {\n",
              "    background-color: var(--bg-color);\n",
              "    border: none;\n",
              "    border-radius: 50%;\n",
              "    cursor: pointer;\n",
              "    display: none;\n",
              "    fill: var(--fill-color);\n",
              "    height: 32px;\n",
              "    padding: 0;\n",
              "    width: 32px;\n",
              "  }\n",
              "\n",
              "  .colab-df-quickchart:hover {\n",
              "    background-color: var(--hover-bg-color);\n",
              "    box-shadow: 0 1px 2px rgba(60, 64, 67, 0.3), 0 1px 3px 1px rgba(60, 64, 67, 0.15);\n",
              "    fill: var(--button-hover-fill-color);\n",
              "  }\n",
              "\n",
              "  .colab-df-quickchart-complete:disabled,\n",
              "  .colab-df-quickchart-complete:disabled:hover {\n",
              "    background-color: var(--disabled-bg-color);\n",
              "    fill: var(--disabled-fill-color);\n",
              "    box-shadow: none;\n",
              "  }\n",
              "\n",
              "  .colab-df-spinner {\n",
              "    border: 2px solid var(--fill-color);\n",
              "    border-color: transparent;\n",
              "    border-bottom-color: var(--fill-color);\n",
              "    animation:\n",
              "      spin 1s steps(1) infinite;\n",
              "  }\n",
              "\n",
              "  @keyframes spin {\n",
              "    0% {\n",
              "      border-color: transparent;\n",
              "      border-bottom-color: var(--fill-color);\n",
              "      border-left-color: var(--fill-color);\n",
              "    }\n",
              "    20% {\n",
              "      border-color: transparent;\n",
              "      border-left-color: var(--fill-color);\n",
              "      border-top-color: var(--fill-color);\n",
              "    }\n",
              "    30% {\n",
              "      border-color: transparent;\n",
              "      border-left-color: var(--fill-color);\n",
              "      border-top-color: var(--fill-color);\n",
              "      border-right-color: var(--fill-color);\n",
              "    }\n",
              "    40% {\n",
              "      border-color: transparent;\n",
              "      border-right-color: var(--fill-color);\n",
              "      border-top-color: var(--fill-color);\n",
              "    }\n",
              "    60% {\n",
              "      border-color: transparent;\n",
              "      border-right-color: var(--fill-color);\n",
              "    }\n",
              "    80% {\n",
              "      border-color: transparent;\n",
              "      border-right-color: var(--fill-color);\n",
              "      border-bottom-color: var(--fill-color);\n",
              "    }\n",
              "    90% {\n",
              "      border-color: transparent;\n",
              "      border-bottom-color: var(--fill-color);\n",
              "    }\n",
              "  }\n",
              "</style>\n",
              "\n",
              "  <script>\n",
              "    async function quickchart(key) {\n",
              "      const quickchartButtonEl =\n",
              "        document.querySelector('#' + key + ' button');\n",
              "      quickchartButtonEl.disabled = true;  // To prevent multiple clicks.\n",
              "      quickchartButtonEl.classList.add('colab-df-spinner');\n",
              "      try {\n",
              "        const charts = await google.colab.kernel.invokeFunction(\n",
              "            'suggestCharts', [key], {});\n",
              "      } catch (error) {\n",
              "        console.error('Error during call to suggestCharts:', error);\n",
              "      }\n",
              "      quickchartButtonEl.classList.remove('colab-df-spinner');\n",
              "      quickchartButtonEl.classList.add('colab-df-quickchart-complete');\n",
              "    }\n",
              "    (() => {\n",
              "      let quickchartButtonEl =\n",
              "        document.querySelector('#df-a19ac095-783b-41fe-9187-ae2143e7cd77 button');\n",
              "      quickchartButtonEl.style.display =\n",
              "        google.colab.kernel.accessAllowed ? 'block' : 'none';\n",
              "    })();\n",
              "  </script>\n",
              "</div>\n",
              "    </div>\n",
              "  </div>\n"
            ]
          },
          "metadata": {},
          "execution_count": 45
        }
      ]
    },
    {
      "cell_type": "code",
      "source": [
        "species.info()"
      ],
      "metadata": {
        "colab": {
          "base_uri": "https://localhost:8080/"
        },
        "id": "DKrWx5Y4pUWx",
        "outputId": "93b8adfc-4d5d-4cbb-a540-0d68c0618ec7"
      },
      "execution_count": 46,
      "outputs": [
        {
          "output_type": "stream",
          "name": "stdout",
          "text": [
            "<class 'pandas.core.frame.DataFrame'>\n",
            "RangeIndex: 546953 entries, 0 to 546952\n",
            "Data columns (total 24 columns):\n",
            " #   Column                                                                         Non-Null Count   Dtype  \n",
            "---  ------                                                                         --------------   -----  \n",
            " 0   Unnamed: 0                                                                     546953 non-null  int64  \n",
            " 1   group                                                                          546953 non-null  object \n",
            " 2   binomial                                                                       546953 non-null  object \n",
            " 3   iucn_id_no                                                                     274122 non-null  float64\n",
            " 4   common_name                                                                    233601 non-null  object \n",
            " 5   name_language                                                                  233242 non-null  object \n",
            " 6   iucn_category                                                                  491534 non-null  object \n",
            " 7   iso_a3                                                                         546953 non-null  object \n",
            " 8   total_area                                                                     546953 non-null  float64\n",
            " 9   small_range                                                                    546953 non-null  int64  \n",
            " 10  wb_datanam                                                                     546953 non-null  object \n",
            " 11  wb_iso                                                                         546035 non-null  object \n",
            " 12  Inhabited Area within Country                                                  546953 non-null  float64\n",
            " 13  datanam_pct_area                                                               546953 non-null  float64\n",
            " 14  Surface Temperature Change                                                     502862 non-null  float64\n",
            " 15  Climate related disasters frequency, Number of Disasters: Drought              84941 non-null   float64\n",
            " 16  Climate related disasters frequency, Number of Disasters: Extreme temperature  26861 non-null   float64\n",
            " 17  Climate related disasters frequency, Number of Disasters: Flood                328935 non-null  float64\n",
            " 18  Climate related disasters frequency, Number of Disasters: Landslide            78856 non-null   float64\n",
            " 19  Climate related disasters frequency, Number of Disasters: Storm                168645 non-null  float64\n",
            " 20  Climate related disasters frequency, Number of Disasters: TOTAL                390495 non-null  float64\n",
            " 21  Climate related disasters frequency, Number of Disasters: Wildfire             40220 non-null   float64\n",
            " 22  Population Density                                                             491245 non-null  object \n",
            " 23  Change in Precipitation                                                        523153 non-null  object \n",
            "dtypes: float64(12), int64(2), object(10)\n",
            "memory usage: 100.2+ MB\n"
          ]
        }
      ]
    },
    {
      "cell_type": "code",
      "source": [
        "species.dropna(subset=['iucn_id_no'], inplace=True)\n",
        "columns_to_drop = ['common_name','name_language', 'wb_iso', 'Climate related disasters frequency, Number of Disasters: TOTAL']\n",
        "species = species.drop(columns=columns_to_drop)"
      ],
      "metadata": {
        "id": "2bsJTY3DmFzN"
      },
      "execution_count": 47,
      "outputs": []
    },
    {
      "cell_type": "code",
      "source": [
        "species['Surface Temperature Change'].fillna(0, inplace=True)\n",
        "species['Climate related disasters frequency, Number of Disasters: Drought'].fillna(0, inplace=True)\n",
        "species['Climate related disasters frequency, Number of Disasters: Landslide'].fillna(0, inplace=True)\n",
        "species['Climate related disasters frequency, Number of Disasters: Flood'].fillna(0, inplace=True)\n",
        "species['Climate related disasters frequency, Number of Disasters: Storm'].fillna(0, inplace=True)\n",
        "species['Climate related disasters frequency, Number of Disasters: Wildfire'].fillna(0, inplace=True)\n",
        "species['Climate related disasters frequency, Number of Disasters: Extreme temperature'].fillna(0, inplace=True)\n",
        "species['Change in Precipitation'].fillna(0, inplace = True)"
      ],
      "metadata": {
        "id": "M7tNq2Nvweo3"
      },
      "execution_count": 64,
      "outputs": []
    },
    {
      "cell_type": "code",
      "source": [
        "species.info()"
      ],
      "metadata": {
        "colab": {
          "base_uri": "https://localhost:8080/"
        },
        "id": "sEJvvPBCqVtZ",
        "outputId": "850c3115-b462-4316-9077-1aacbbc2ae12"
      },
      "execution_count": 65,
      "outputs": [
        {
          "output_type": "stream",
          "name": "stdout",
          "text": [
            "<class 'pandas.core.frame.DataFrame'>\n",
            "Int64Index: 274122 entries, 0 to 546952\n",
            "Data columns (total 20 columns):\n",
            " #   Column                                                                         Non-Null Count   Dtype  \n",
            "---  ------                                                                         --------------   -----  \n",
            " 0   Unnamed: 0                                                                     274122 non-null  int64  \n",
            " 1   group                                                                          274122 non-null  object \n",
            " 2   binomial                                                                       274122 non-null  object \n",
            " 3   iucn_id_no                                                                     274122 non-null  float64\n",
            " 4   iucn_category                                                                  274122 non-null  object \n",
            " 5   iso_a3                                                                         274122 non-null  object \n",
            " 6   total_area                                                                     274122 non-null  float64\n",
            " 7   small_range                                                                    274122 non-null  int64  \n",
            " 8   wb_datanam                                                                     274122 non-null  object \n",
            " 9   Inhabited Area within Country                                                  274122 non-null  float64\n",
            " 10  datanam_pct_area                                                               274122 non-null  float64\n",
            " 11  Surface Temperature Change                                                     274122 non-null  float64\n",
            " 12  Climate related disasters frequency, Number of Disasters: Drought              274122 non-null  float64\n",
            " 13  Climate related disasters frequency, Number of Disasters: Extreme temperature  274122 non-null  float64\n",
            " 14  Climate related disasters frequency, Number of Disasters: Flood                274122 non-null  float64\n",
            " 15  Climate related disasters frequency, Number of Disasters: Landslide            274122 non-null  float64\n",
            " 16  Climate related disasters frequency, Number of Disasters: Storm                274122 non-null  float64\n",
            " 17  Climate related disasters frequency, Number of Disasters: Wildfire             274122 non-null  float64\n",
            " 18  Population Density                                                             242822 non-null  object \n",
            " 19  Change in Precipitation                                                        274122 non-null  object \n",
            "dtypes: float64(11), int64(2), object(7)\n",
            "memory usage: 43.9+ MB\n"
          ]
        }
      ]
    },
    {
      "cell_type": "code",
      "source": [
        "plt.hist(species['Surface Temperature Change'], bins = 20)\n",
        "plt.xlabel('Surface Temperature Change')\n",
        "plt.ylabel('Frequency')\n",
        "plt.title('Global Surface Temeperature Change')\n",
        "plt.show()"
      ],
      "metadata": {
        "colab": {
          "base_uri": "https://localhost:8080/",
          "height": 472
        },
        "id": "PPT3Hun78wu6",
        "outputId": "2f4709b3-6223-45a8-ff88-42798eaae051"
      },
      "execution_count": 69,
      "outputs": [
        {
          "output_type": "display_data",
          "data": {
            "text/plain": [
              "<Figure size 640x480 with 1 Axes>"
            ],
            "image/png": "[encoded data removed]"
          },
          "metadata": {}
        }
      ]
    },
    {
      "cell_type": "code",
      "source": [
        "category_counts = species['iucn_category'].value_counts()\n",
        "plt.bar(category_counts.index, category_counts.values)\n",
        "plt.xlabel('IUCN Category')\n",
        "plt.ylabel('Count')\n",
        "plt.title('Bar Plot of IUCN Categories')\n",
        "plt.xticks(rotation=90)\n",
        "plt.show()"
      ],
      "metadata": {
        "colab": {
          "base_uri": "https://localhost:8080/",
          "height": 480
        },
        "id": "RjlU43b5G-3-",
        "outputId": "d3afebff-7127-46f3-8679-cfc050038284"
      },
      "execution_count": 70,
      "outputs": [
        {
          "output_type": "display_data",
          "data": {
            "text/plain": [
              "<Figure size 640x480 with 1 Axes>"
            ],
            "image/png": "[encoded data removed]"
          },
          "metadata": {}
        }
      ]
    },
    {
      "cell_type": "code",
      "source": [],
      "metadata": {
        "id": "Em9eMa1b9WqQ"
      },
      "execution_count": null,
      "outputs": []
    }
  ]
}